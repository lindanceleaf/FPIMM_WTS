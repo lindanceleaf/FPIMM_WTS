{
 "cells": [
  {
   "cell_type": "code",
   "execution_count": 1,
   "metadata": {},
   "outputs": [],
   "source": [
    "filePath = 'audio/seven.wav'"
   ]
  },
  {
   "cell_type": "markdown",
   "metadata": {},
   "source": [
    "- separate"
   ]
  },
  {
   "cell_type": "code",
   "execution_count": null,
   "metadata": {},
   "outputs": [],
   "source": [
    "from spleeter.separator import Separator\n",
    "\n",
    "def separate(path: str):\n",
    "    print('start separate')\n",
    "\n",
    "    separateMode = 5\n",
    "    # setting spleeter separator\n",
    "    separator = Separator(f'spleeter:{separateMode}stems')\n",
    "\n",
    "    # start separate\n",
    "    separator.separate_to_file(path, f'result_{separateMode}stems')\n",
    "\n",
    "    print('end separate')"
   ]
  },
  {
   "cell_type": "code",
   "execution_count": null,
   "metadata": {},
   "outputs": [],
   "source": [
    "separate(filePath)"
   ]
  }
 ],
 "metadata": {
  "language_info": {
   "name": "python"
  }
 },
 "nbformat": 4,
 "nbformat_minor": 2
}
