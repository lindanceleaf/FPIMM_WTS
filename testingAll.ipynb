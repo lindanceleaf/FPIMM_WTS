{
 "cells": [
  {
   "cell_type": "code",
   "execution_count": 1,
   "metadata": {},
   "outputs": [],
   "source": [
    "filePath = 'audio/seven.wav'"
   ]
  },
  {
   "cell_type": "markdown",
   "metadata": {},
   "source": [
    "- separate"
   ]
  },
  {
   "cell_type": "code",
   "execution_count": null,
   "metadata": {},
   "outputs": [],
   "source": [
    "from spleeter.separator import Separator\n",
    "\n",
    "def separate(path: str):\n",
    "    print('start separate')\n",
    "\n",
    "    separateMode = 5\n",
    "    # setting spleeter separator\n",
    "    separator = Separator(f'spleeter:{separateMode}stems')\n",
    "\n",
    "    # start separate\n",
    "    separator.separate_to_file(path, f'result_{separateMode}stems')\n",
    "\n",
    "    print('end separate')"
   ]
  },
  {
   "cell_type": "code",
   "execution_count": null,
   "metadata": {},
   "outputs": [],
   "source": [
    "separate(filePath)"
   ]
  },
  {
   "cell_type": "code",
   "execution_count": null,
   "metadata": {},
   "outputs": [],
   "source": [
    "file = filePath[:filePath.find('.')]"
   ]
  },
  {
   "cell_type": "code",
   "execution_count": null,
   "metadata": {},
   "outputs": [],
   "source": [
    "import librosa\n",
    "\n",
    "def getInfo(path: str) -> (int, int):\n",
    "\n",
    "    audio_data, sr = librosa.load(path)\n",
    "\n",
    "    tempo = int(librosa.beat.tempo(y=audio_data, sr=sr))\n",
    "\n",
    "    return (tempo, sr)\n"
   ]
  },
  {
   "cell_type": "code",
   "execution_count": null,
   "metadata": {},
   "outputs": [],
   "source": [
    "BPM, sr = getInfo(filePath)"
   ]
  },
  {
   "cell_type": "code",
   "execution_count": null,
   "metadata": {},
   "outputs": [],
   "source": [
    "import librosa\n",
    "import numpy as np\n",
    "\n",
    "def getFreq(path: str, BPM: int, sr: int):\n",
    "    output_path = path.replace('.wav', '_Freq.txt')\n",
    "    output = open(output_path, 'w')\n",
    "\n",
    "    audio_data, sr = librosa.load(path, sr=sr)\n",
    "\n",
    "    slice_rate = 2584 / (BPM * 4)\n",
    "    # get the magnitudes\n",
    "    pitches, magnitudes = librosa.piptrack(y=audio_data, sr=sr)\n",
    "    # turn the amplitude to db\n",
    "    magnitudes_db = librosa.amplitude_to_db(magnitudes)\n",
    "    # get the max db's frequency\n",
    "    frequencies = np.argmax(magnitudes_db, axis=0)\n",
    "\n",
    "    pitch_times = librosa.times_like(frequencies, sr=sr)\n",
    "\n",
    "    # store every time's freq\n",
    "    pitch_list = []\n",
    "    for time, pitch in zip(pitch_times, frequencies):\n",
    "        pitch_list.append((time, pitch))\n",
    "\n",
    "    cnt = 1\n",
    "    while True:\n",
    "        index = int(slice_rate * cnt)\n",
    "        if index > len(pitch_list): break\n",
    "        output.write(f\"{pitch_list[index][1]}\\n\")\n",
    "        cnt += 1\n",
    "\n",
    "    output.close()"
   ]
  },
  {
   "cell_type": "code",
   "execution_count": null,
   "metadata": {},
   "outputs": [],
   "source": [
    "def getSheet(path: str):\n",
    "    FreqTable = 'FreqTable.txt'\n",
    "    file = open(FreqTable, 'r')\n",
    "    data = file.readlines()\n",
    "    table = []\n",
    "    for i in data:\n",
    "        name, freq = i.split(' ')\n",
    "        table.append((name, float(freq)))\n",
    "    file.close()\n",
    "\n",
    "    audio = open(path, 'r')\n",
    "    outputPath = path.replace('Freq', 'sheet')\n",
    "    out = open(outputPath, 'w')\n",
    "    data = audio.readlines()\n",
    "    for i in data:\n",
    "        i = float(i)\n",
    "        if i == 0: out.write('_ ')\n",
    "        else:\n",
    "            for j in range(len(table)-1):\n",
    "                if table[j][1] <= i < table[j+1][1]:\n",
    "                    out.write(f'{table[j][0]} ')\n",
    "                    break\n",
    "    audio.close()\n",
    "    out.close()"
   ]
  },
  {
   "cell_type": "code",
   "execution_count": null,
   "metadata": {},
   "outputs": [],
   "source": [
    "kinds = ['piano', 'vocals', 'drums', 'bass', 'other']\n",
    "for kind in kinds:\n",
    "    splitPath = f'result_5stems/{file}/{kind}.wav'\n",
    "    getFreq(splitPath, BPM, sr) # put the file in result/file/kind_Freq.txt\n",
    "    FreqPath = f'result_5stems/{file}/{kind}_Freq.txt'\n",
    "    getSheet(FreqPath)"
   ]
  }
 ],
 "metadata": {
  "language_info": {
   "name": "python"
  }
 },
 "nbformat": 4,
 "nbformat_minor": 2
}
